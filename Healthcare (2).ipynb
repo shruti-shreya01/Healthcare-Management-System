{
  "nbformat": 4,
  "nbformat_minor": 0,
  "metadata": {
    "colab": {
      "provenance": []
    },
    "kernelspec": {
      "name": "python3",
      "display_name": "Python 3"
    },
    "language_info": {
      "name": "python"
    }
  },
  "cells": [
    {
      "cell_type": "markdown",
      "source": [
        "# Loading datasets and cleaning"
      ],
      "metadata": {
        "id": "Lesc_5UUlMP0"
      }
    },
    {
      "cell_type": "code",
      "execution_count": 42,
      "metadata": {
        "colab": {
          "base_uri": "https://localhost:8080/"
        },
        "id": "BVB4NUhHooKn",
        "outputId": "ca279530-d838-49e5-a818-247da38880b6"
      },
      "outputs": [
        {
          "output_type": "stream",
          "name": "stdout",
          "text": [
            "Duplicates removed and cleaned data saved to 'Patient_cleaned.csv'.\n"
          ]
        }
      ],
      "source": [
        "import pandas as pd\n",
        "\n",
        "# Read the CSV file into a DataFrame\n",
        "df = pd.read_csv('Patient.csv')\n",
        "\n",
        "# Remove duplicates based on the PatientID column\n",
        "df_cleaned = df.drop_duplicates(subset=['PatientID'])\n",
        "\n",
        "# Save the cleaned DataFrame to a new CSV file\n",
        "df_cleaned.to_csv('Patient_cleaned.csv', index=False)\n",
        "\n",
        "print(\"Duplicates removed and cleaned data saved to 'Patient_cleaned.csv'.\")"
      ]
    },
    {
      "cell_type": "code",
      "source": [
        "import pandas as pd\n",
        "\n",
        "# Read the CSV file into a DataFrame\n",
        "df = pd.read_csv('Doctor.csv')\n",
        "\n",
        "# Remove duplicates based on the PatientID column\n",
        "df_cleaned = df.drop_duplicates(subset=['DoctorID'])\n",
        "\n",
        "# Save the cleaned DataFrame to a new CSV file\n",
        "df_cleaned.to_csv('Doctor_cleaned.csv', index=False)\n",
        "\n",
        "print(\"Duplicates removed and cleaned data saved to 'Doctor_cleaned.csv'.\")"
      ],
      "metadata": {
        "colab": {
          "base_uri": "https://localhost:8080/"
        },
        "id": "JzyKEHpxp6Lv",
        "outputId": "31a7020e-81d5-4654-fef1-b2d8f5019f9b"
      },
      "execution_count": 43,
      "outputs": [
        {
          "output_type": "stream",
          "name": "stdout",
          "text": [
            "Duplicates removed and cleaned data saved to 'Doctor_cleaned.csv'.\n"
          ]
        }
      ]
    },
    {
      "cell_type": "code",
      "source": [
        "import pandas as pd\n",
        "\n",
        "# Read the CSV file into a DataFrame\n",
        "df = pd.read_csv('Appointment.csv')\n",
        "\n",
        "# Remove duplicates based on the PatientID column\n",
        "df_cleaned = df.drop_duplicates(subset=['AppointmentID'])\n",
        "\n",
        "# Save the cleaned DataFrame to a new CSV file\n",
        "df_cleaned.to_csv('Appointment_cleaned.csv', index=False)\n",
        "\n",
        "print(\"Duplicates removed and cleaned data saved to 'Appointment_cleaned.csv'.\")"
      ],
      "metadata": {
        "colab": {
          "base_uri": "https://localhost:8080/"
        },
        "id": "p2I0c_IvpMuT",
        "outputId": "0b3cd7a3-ff36-4dd2-da32-5270e189c358"
      },
      "execution_count": 44,
      "outputs": [
        {
          "output_type": "stream",
          "name": "stdout",
          "text": [
            "Duplicates removed and cleaned data saved to 'Appointment_cleaned.csv'.\n"
          ]
        }
      ]
    },
    {
      "cell_type": "code",
      "source": [
        "import pandas as pd\n",
        "\n",
        "# Read the CSV file into a DataFrame\n",
        "df = pd.read_csv('Medical Procedure.csv')\n",
        "\n",
        "# Remove duplicates based on the PatientID column\n",
        "df_cleaned = df.drop_duplicates(subset=['ProcedureID'])\n",
        "\n",
        "# Save the cleaned DataFrame to a new CSV file\n",
        "df_cleaned.to_csv('Procedure_cleaned.csv', index=False)\n",
        "\n",
        "print(\"Duplicates removed and cleaned data saved to 'Procedure_cleaned.csv'.\")"
      ],
      "metadata": {
        "colab": {
          "base_uri": "https://localhost:8080/"
        },
        "id": "KH2ALwjupb8i",
        "outputId": "07a949e6-2680-4d7d-9232-66fd1b3c0a0d"
      },
      "execution_count": 45,
      "outputs": [
        {
          "output_type": "stream",
          "name": "stdout",
          "text": [
            "Duplicates removed and cleaned data saved to 'Procedure_cleaned.csv'.\n"
          ]
        }
      ]
    },
    {
      "cell_type": "code",
      "source": [
        "import pandas as pd\n",
        "\n",
        "# Read the CSV file into a DataFrame\n",
        "df = pd.read_csv('Billing.csv')\n",
        "\n",
        "# Remove duplicates based on the PatientID column\n",
        "df_cleaned = df.drop_duplicates(subset=['InvoiceID'])\n",
        "\n",
        "# Save the cleaned DataFrame to a new CSV file\n",
        "df_cleaned.to_csv('Billing_cleaned.csv', index=False)\n",
        "\n",
        "print(\"Duplicates removed and cleaned data saved to 'Billing_cleaned.csv'.\")"
      ],
      "metadata": {
        "colab": {
          "base_uri": "https://localhost:8080/"
        },
        "id": "UAVCaOp5psp-",
        "outputId": "8f600b91-04ca-4aed-8af1-822843dd6008"
      },
      "execution_count": 46,
      "outputs": [
        {
          "output_type": "stream",
          "name": "stdout",
          "text": [
            "Duplicates removed and cleaned data saved to 'Billing_cleaned.csv'.\n"
          ]
        }
      ]
    },
    {
      "cell_type": "code",
      "source": [
        "import sqlite3\n",
        "\n",
        "# Connect to SQLite database\n",
        "with sqlite3.connect('healthcare.db') as conn:\n",
        "    cursor = conn.cursor()\n",
        "\n",
        "    # Drop existing tables (if they exist)\n",
        "    cursor.execute('DROP TABLE IF EXISTS Patients')\n",
        "    cursor.execute('DROP TABLE IF EXISTS Doctors')\n",
        "    cursor.execute('DROP TABLE IF EXISTS Appointments')\n",
        "    cursor.execute('DROP TABLE IF EXISTS MedicalProcedure')\n",
        "    cursor.execute('DROP TABLE IF EXISTS Billing')\n",
        "\n",
        "    # Create Patients table\n",
        "    cursor.execute('''\n",
        "        CREATE TABLE Patients (\n",
        "            PatientID INTEGER PRIMARY KEY,\n",
        "            firstname TEXT,\n",
        "            lastname TEXT,\n",
        "            email TEXT\n",
        "        )\n",
        "    ''')\n",
        "\n",
        "    # Create Doctors table\n",
        "    cursor.execute('''\n",
        "        CREATE TABLE Doctors (\n",
        "            DoctorID INTEGER PRIMARY KEY,\n",
        "            DoctorName TEXT,\n",
        "            Specialization TEXT,\n",
        "            DoctorContact TEXT\n",
        "        )\n",
        "    ''')\n",
        "\n",
        "    # Create Appointments table\n",
        "    cursor.execute('''\n",
        "        CREATE TABLE Appointments (\n",
        "            AppointmentID INTEGER PRIMARY KEY,\n",
        "            Date TEXT,\n",
        "            Time TEXT,\n",
        "            PatientID INTEGER,\n",
        "            DoctorID INTEGER,\n",
        "            FOREIGN KEY (PatientID) REFERENCES Patients(PatientID),\n",
        "            FOREIGN KEY (DoctorID) REFERENCES Doctors(DoctorID)\n",
        "        )\n",
        "    ''')\n",
        "\n",
        "    # Create MedicalProcedure table\n",
        "    cursor.execute('''\n",
        "        CREATE TABLE MedicalProcedure (\n",
        "            ProcedureID INTEGER PRIMARY KEY,\n",
        "            ProcedureName TEXT,\n",
        "            AppointmentID INTEGER,\n",
        "            FOREIGN KEY (AppointmentID) REFERENCES Appointments(AppointmentID)\n",
        "        )\n",
        "    ''')\n",
        "\n",
        "    # Create Billing table\n",
        "    cursor.execute('''\n",
        "        CREATE TABLE Billing (\n",
        "            InvoiceID TEXT PRIMARY KEY,\n",
        "            PatientID INTEGER,\n",
        "            Items TEXT,\n",
        "            Amount REAL,\n",
        "            FOREIGN KEY (PatientID) REFERENCES Patients(PatientID)\n",
        "        )\n",
        "    ''')\n",
        "\n",
        "print(\"SQLite database 'healthcare.db' created successfully.\")\n"
      ],
      "metadata": {
        "colab": {
          "base_uri": "https://localhost:8080/"
        },
        "id": "xhThvCndo_l4",
        "outputId": "12950324-a5ab-4b4c-ee44-8e6e507c21c9"
      },
      "execution_count": 47,
      "outputs": [
        {
          "output_type": "stream",
          "name": "stdout",
          "text": [
            "SQLite database 'healthcare.db' created successfully.\n"
          ]
        }
      ]
    },
    {
      "cell_type": "code",
      "source": [
        "import sqlite3\n",
        "import csv\n",
        "\n",
        "# Connect to SQLite database\n",
        "conn = sqlite3.connect('healthcare.db')\n",
        "cursor = conn.cursor()\n",
        "\n",
        "# Function to insert data from CSV into SQLite table\n",
        "def insert_data_from_csv(csv_file, table_name):\n",
        "    with open(csv_file, 'r', newline='', encoding='utf-8') as file:\n",
        "        reader = csv.reader(file)\n",
        "        next(reader)  # Skip header row if present\n",
        "        for row in reader:\n",
        "            cursor.execute(f'INSERT INTO {table_name} VALUES ({\", \".join(\"?\" * len(row))})', row)\n",
        "\n",
        "# Insert data into Patients table from CSV\n",
        "insert_data_from_csv('Patient_cleaned.csv', 'Patients')\n",
        "\n",
        "# Insert data into Doctors table from CSV\n",
        "insert_data_from_csv('Doctor_cleaned.csv', 'Doctors')\n",
        "\n",
        "# Insert data into Appointments table from CSV\n",
        "insert_data_from_csv('Appointment_cleaned.csv', 'Appointments')\n",
        "\n",
        "# Insert data into MedicalProcedure table from CSV\n",
        "insert_data_from_csv('Procedure_cleaned.csv', 'MedicalProcedure')\n",
        "\n",
        "# Insert data into Billing table from CSV\n",
        "insert_data_from_csv('Billing_cleaned.csv', 'Billing')\n",
        "\n",
        "# Commit changes and close connection\n",
        "conn.commit()\n",
        "\n",
        "print(\"Data inserted into SQLite database successfully.\")\n"
      ],
      "metadata": {
        "colab": {
          "base_uri": "https://localhost:8080/"
        },
        "id": "VuriWWsNpE16",
        "outputId": "a43e58c0-b6da-4ec1-92ea-30ff5bb00f32"
      },
      "execution_count": 48,
      "outputs": [
        {
          "output_type": "stream",
          "name": "stdout",
          "text": [
            "Data inserted into SQLite database successfully.\n"
          ]
        }
      ]
    },
    {
      "cell_type": "markdown",
      "source": [
        "# Data Insights"
      ],
      "metadata": {
        "id": "6PQldduOtuSB"
      }
    },
    {
      "cell_type": "code",
      "source": [
        "import sqlite3\n",
        "import pandas as pd\n",
        "\n",
        "# Connect to SQLite database\n",
        "conn = sqlite3.connect('healthcare.db')\n",
        "\n",
        "# Example: Retrieve all patients along with their appointments and doctor information\n",
        "query = '''\n",
        "    SELECT p.PatientID, p.firstname, p.lastname, a.Date, a.Time, d.DoctorName, d.Specialization\n",
        "    FROM Patients p\n",
        "    INNER JOIN Appointments a ON p.PatientID = a.PatientID\n",
        "    INNER JOIN Doctors d ON a.DoctorID = d.DoctorID\n",
        "'''\n",
        "\n",
        "# Execute query and fetch results into a DataFrame\n",
        "df = pd.read_sql_query(query, conn)\n",
        "\n",
        "\n",
        "\n",
        "# Display the retrieved data\n",
        "print(df.head())\n",
        "\n",
        "\n",
        "\n"
      ],
      "metadata": {
        "colab": {
          "base_uri": "https://localhost:8080/"
        },
        "id": "etEwCqBkqzp3",
        "outputId": "3f65bc0f-d2bf-4eb8-9a47-dd35e9f9a752"
      },
      "execution_count": 49,
      "outputs": [
        {
          "output_type": "stream",
          "name": "stdout",
          "text": [
            "   PatientID firstname  lastname        Date                      Time  \\\n",
            "0        305     Grier  Ummersen  2021-12-29  2023-12-23T14:33:46.410Z   \n",
            "1        214     Janey  Bearnard  2023-10-08  2023-12-23T14:33:46.412Z   \n",
            "2        867      Doro  Johnsson  2021-12-11  2023-12-23T14:33:46.412Z   \n",
            "3        589     Elena   Richers  2022-03-29  2023-12-23T14:33:46.411Z   \n",
            "4        190     Amara  Sawtelle  2020-07-12  2023-12-23T14:33:46.414Z   \n",
            "\n",
            "  DoctorName      Specialization  \n",
            "0      Sissy   Otolaryngologists  \n",
            "1    Brianna         Dermatology  \n",
            "2      Moyna  Infectious disease  \n",
            "3      Ricky  Infectious disease  \n",
            "4      Joane           Neurology  \n"
          ]
        }
      ]
    },
    {
      "cell_type": "code",
      "source": [
        "import sqlite3\n",
        "import pandas as pd\n",
        "\n",
        "# Connect to SQLite database\n",
        "conn = sqlite3.connect('healthcare.db')\n",
        "\n",
        "# Query to summarize patient demographics\n",
        "query_demographics = '''\n",
        "    SELECT\n",
        "        COUNT(*) AS TotalPatients,\n",
        "        SUM(CASE WHEN firstname IS NULL OR lastname IS NULL OR email IS NULL THEN 1 ELSE 0 END) AS MissingInfo,\n",
        "        COUNT(DISTINCT PatientID) AS UniquePatients,\n",
        "        COUNT(DISTINCT firstname) AS UniqueFirstNames,\n",
        "        COUNT(DISTINCT lastname) AS UniqueLastNames\n",
        "    FROM Patients\n",
        "'''\n",
        "\n",
        "# Execute query and fetch data into DataFrame\n",
        "df_demographics = pd.read_sql_query(query_demographics, conn)\n",
        "\n",
        "# Close connection\n",
        "conn.close()\n",
        "\n",
        "# Display results\n",
        "print(\"Summary of Patient Demographics:\")\n",
        "print(df_demographics)\n"
      ],
      "metadata": {
        "colab": {
          "base_uri": "https://localhost:8080/"
        },
        "id": "hCFMMnVnrOMT",
        "outputId": "ede9a75a-fd1b-489b-fc3e-892e50a978c2"
      },
      "execution_count": 50,
      "outputs": [
        {
          "output_type": "stream",
          "name": "stdout",
          "text": [
            "Summary of Patient Demographics:\n",
            "   TotalPatients  MissingInfo  UniquePatients  UniqueFirstNames  \\\n",
            "0            601            0             601               398   \n",
            "\n",
            "   UniqueLastNames  \n",
            "0              462  \n"
          ]
        }
      ]
    },
    {
      "cell_type": "code",
      "source": [
        "import sqlite3\n",
        "import pandas as pd\n",
        "\n",
        "# Connect to SQLite database\n",
        "conn = sqlite3.connect('healthcare.db')\n",
        "\n",
        "# Query to summarize appointment scheduling patterns\n",
        "query_scheduling_patterns = '''\n",
        "    SELECT\n",
        "        COUNT(*) AS TotalAppointments,\n",
        "        COUNT(DISTINCT AppointmentID) AS UniqueAppointments,\n",
        "        COUNT(DISTINCT PatientID) AS UniquePatients,\n",
        "        COUNT(DISTINCT DoctorID) AS UniqueDoctors,\n",
        "        strftime('%Y', Date) AS Year,\n",
        "        strftime('%m', Date) AS Month,\n",
        "        strftime('%d', Date) AS Day,\n",
        "        strftime('%w', Date) AS DayOfWeek,\n",
        "        Time\n",
        "    FROM Appointments\n",
        "    GROUP BY Year, Month, Day, DayOfWeek, Time\n",
        "    ORDER BY Year, Month, Day, Time\n",
        "'''\n",
        "\n",
        "# Execute query and fetch data into DataFrame\n",
        "df_scheduling_patterns = pd.read_sql_query(query_scheduling_patterns, conn)\n",
        "\n",
        "# Close connection\n",
        "conn.close()\n",
        "\n",
        "# Display results\n",
        "print(\"Summary of Appointment Scheduling Patterns:\")\n",
        "print(df_scheduling_patterns)\n"
      ],
      "metadata": {
        "colab": {
          "base_uri": "https://localhost:8080/"
        },
        "id": "5xkrrUF0ySxz",
        "outputId": "0156b454-e52c-4577-8d7d-aff6c83f2ae3"
      },
      "execution_count": 51,
      "outputs": [
        {
          "output_type": "stream",
          "name": "stdout",
          "text": [
            "Summary of Appointment Scheduling Patterns:\n",
            "     TotalAppointments  UniqueAppointments  UniquePatients  UniqueDoctors  \\\n",
            "0                    1                   1               1              1   \n",
            "1                    1                   1               1              1   \n",
            "2                    1                   1               1              1   \n",
            "3                    1                   1               1              1   \n",
            "4                    1                   1               1              1   \n",
            "..                 ...                 ...             ...            ...   \n",
            "580                  1                   1               1              1   \n",
            "581                  1                   1               1              1   \n",
            "582                  1                   1               1              1   \n",
            "583                  1                   1               1              1   \n",
            "584                  1                   1               1              1   \n",
            "\n",
            "     Year Month Day DayOfWeek                      Time  \n",
            "0    2020    01  01         3  2023-12-23T14:33:46.411Z  \n",
            "1    2020    01  03         5  2023-12-23T14:33:46.417Z  \n",
            "2    2020    01  05         0  2023-12-23T14:33:46.415Z  \n",
            "3    2020    01  08         3  2023-12-23T14:33:46.407Z  \n",
            "4    2020    01  10         5  2023-12-23T14:33:46.408Z  \n",
            "..    ...   ...  ..       ...                       ...  \n",
            "580  2023    12  19         2  2023-12-23T14:33:46.415Z  \n",
            "581  2023    12  21         4  2023-12-23T14:33:46.410Z  \n",
            "582  2023    12  22         5  2023-12-23T14:33:46.414Z  \n",
            "583  2023    12  27         3  2023-12-23T14:33:46.410Z  \n",
            "584  2023    12  31         0  2023-12-23T14:33:46.415Z  \n",
            "\n",
            "[585 rows x 9 columns]\n"
          ]
        }
      ]
    },
    {
      "cell_type": "code",
      "source": [
        "import sqlite3\n",
        "import pandas as pd\n",
        "\n",
        "# Connect to SQLite database\n",
        "conn = sqlite3.connect('healthcare.db')\n",
        "\n",
        "# Query to summarize billing insights\n",
        "query_billing_insights = '''\n",
        "    SELECT\n",
        "        COUNT(*) AS TotalTransactions,\n",
        "        SUM(Amount) AS TotalAmount,\n",
        "        AVG(Amount) AS AverageAmount,\n",
        "        MAX(Amount) AS MaxAmount,\n",
        "        MIN(Amount) AS MinAmount,\n",
        "        COUNT(DISTINCT InvoiceID) AS UniqueInvoices,\n",
        "        COUNT(DISTINCT PatientID) AS UniquePatients,\n",
        "        Items AS MostCommonItem\n",
        "    FROM Billing\n",
        "    GROUP BY MostCommonItem\n",
        "    ORDER BY TotalAmount DESC\n",
        "'''\n",
        "\n",
        "# Execute query and fetch data into DataFrame\n",
        "df_billing_insights = pd.read_sql_query(query_billing_insights, conn)\n",
        "\n",
        "# Close connection\n",
        "conn.close()\n",
        "\n",
        "# Display results\n",
        "print(\"Summary of Billing Insights:\")\n",
        "print(df_billing_insights)\n"
      ],
      "metadata": {
        "colab": {
          "base_uri": "https://localhost:8080/"
        },
        "id": "bhjpX5bb0ba6",
        "outputId": "aa4a0d89-9fa1-4ec0-86fa-50cc48f44919"
      },
      "execution_count": 52,
      "outputs": [
        {
          "output_type": "stream",
          "name": "stdout",
          "text": [
            "Summary of Billing Insights:\n",
            "    TotalTransactions  TotalAmount  AverageAmount  MaxAmount  MinAmount  \\\n",
            "0                  25   14083138.0  563325.520000   859275.0    49414.0   \n",
            "1                  24   13123784.0  546824.333333   996843.0    68135.0   \n",
            "2                  20   12202715.0  610135.750000   990073.0   145410.0   \n",
            "3                  22   10533773.0  478807.863636   902884.0    20564.0   \n",
            "4                  17   10296095.0  605652.647059   977858.0    26117.0   \n",
            "..                ...          ...            ...        ...        ...   \n",
            "63                 11    3792139.0  344739.909091   781027.0    46847.0   \n",
            "64                 10    3759598.0  375959.800000   923796.0    39971.0   \n",
            "65                  9    3505813.0  389534.777778   809324.0    16114.0   \n",
            "66                  9    2553902.0  283766.888889   801357.0    27009.0   \n",
            "67                  8    2211512.0  276439.000000   998106.0    24611.0   \n",
            "\n",
            "    UniqueInvoices  UniquePatients                            MostCommonItem  \n",
            "0               25              23      Insulin pump management for diabetes  \n",
            "1               24              23                         Pediatric surgery  \n",
            "2               20              20                Chronic disease management  \n",
            "3               22              22                              Bronchoscopy  \n",
            "4               17              17                      Well-child check-ups  \n",
            "..             ...             ...                                       ...  \n",
            "63              11              11           Internal medicine consultations  \n",
            "64              10              10                          Cataract surgery  \n",
            "65               9               9  Management of complex medical conditions  \n",
            "66               9               9               X-rays, CT scans, MRI scans  \n",
            "67               8               8                       Ventilation support  \n",
            "\n",
            "[68 rows x 8 columns]\n"
          ]
        }
      ]
    },
    {
      "cell_type": "code",
      "source": [
        "import sqlite3\n",
        "import pandas as pd\n",
        "\n",
        "# Connect to SQLite database\n",
        "conn = sqlite3.connect('healthcare.db')\n",
        "\n",
        "# Query to summarize doctor availability\n",
        "query_doctor_availability = '''\n",
        "    SELECT\n",
        "        Doctors.DoctorID,\n",
        "        Doctors.DoctorName,\n",
        "        Doctors.Specialization,\n",
        "        Doctors.DoctorContact,\n",
        "        COUNT(*) AS TotalAppointments\n",
        "    FROM Doctors\n",
        "    LEFT JOIN Appointments ON Doctors.DoctorID = Appointments.DoctorID\n",
        "    GROUP BY Doctors.DoctorID, Doctors.DoctorName, Doctors.Specialization, Doctors.DoctorContact\n",
        "    ORDER BY TotalAppointments DESC\n",
        "'''\n",
        "\n",
        "# Execute query and fetch data into DataFrame\n",
        "df_doctor_availability = pd.read_sql_query(query_doctor_availability, conn)\n",
        "\n",
        "# Close connection\n",
        "conn.close()\n",
        "\n",
        "# Display results\n",
        "print(\"Summary of Doctor Availability:\")\n",
        "print(df_doctor_availability)\n"
      ],
      "metadata": {
        "colab": {
          "base_uri": "https://localhost:8080/"
        },
        "id": "SE-QalZ80sD-",
        "outputId": "869514c8-e312-40ef-9358-205f6982f5e7"
      },
      "execution_count": 53,
      "outputs": [
        {
          "output_type": "stream",
          "name": "stdout",
          "text": [
            "Summary of Doctor Availability:\n",
            "     DoctorID DoctorName               Specialization  DoctorContact  \\\n",
            "0         170   Quintina                   Oncologist  .@yopmail.com   \n",
            "1         117     Karena            Otolaryngologists  .@yopmail.com   \n",
            "2         427     Jeanna  Obstetric Anesthesiologists  .@yopmail.com   \n",
            "3         430    Eolanda                   Allergists  .@yopmail.com   \n",
            "4         527  Cristabel                   Cardiology  .@yopmail.com   \n",
            "..        ...        ...                          ...            ...   \n",
            "595       994  Cristabel                   Oncologist  .@yopmail.com   \n",
            "596       995      Lanae                    Neurology  .@yopmail.com   \n",
            "597       997   Georgina  Obstetric Anesthesiologists  .@yopmail.com   \n",
            "598       999      Wynne           Infectious disease  .@yopmail.com   \n",
            "599      1000      Brana                   Nephrology  .@yopmail.com   \n",
            "\n",
            "     TotalAppointments  \n",
            "0                    4  \n",
            "1                    3  \n",
            "2                    3  \n",
            "3                    3  \n",
            "4                    3  \n",
            "..                 ...  \n",
            "595                  1  \n",
            "596                  1  \n",
            "597                  1  \n",
            "598                  1  \n",
            "599                  1  \n",
            "\n",
            "[600 rows x 5 columns]\n"
          ]
        }
      ]
    },
    {
      "cell_type": "markdown",
      "source": [
        "# Visualization"
      ],
      "metadata": {
        "id": "AFlwBQEf1qXu"
      }
    },
    {
      "cell_type": "code",
      "source": [
        "# Billing vs appointment\n",
        "\n",
        "import sqlite3\n",
        "import pandas as pd\n",
        "import matplotlib.pyplot as plt\n",
        "\n",
        "# Connect to SQLite database\n",
        "conn = sqlite3.connect('healthcare.db')\n",
        "\n",
        "# Example SQL query to fetch data for scatter plot\n",
        "query_billing_vs_appointments = '''\n",
        "    SELECT\n",
        "        p.PatientID,\n",
        "        COUNT(a.AppointmentID) AS NumAppointments,\n",
        "        SUM(b.Amount) AS TotalAmount\n",
        "    FROM Patients p\n",
        "    LEFT JOIN Appointments a ON p.PatientID = a.PatientID\n",
        "    LEFT JOIN Billing b ON p.PatientID = b.PatientID\n",
        "    GROUP BY p.PatientID\n",
        "'''\n",
        "\n",
        "# Execute query and fetch data into DataFrame\n",
        "df_billing_vs_appointments = pd.read_sql_query(query_billing_vs_appointments, conn)\n",
        "\n",
        "# Close connection\n",
        "conn.close()\n",
        "\n",
        "# Plotting using matplotlib\n",
        "plt.figure(figsize=(10, 6))\n",
        "plt.scatter(df_billing_vs_appointments['NumAppointments'], df_billing_vs_appointments['TotalAmount'], alpha=0.7)\n",
        "plt.title('Relationship between Number of Appointments and Total Billing Amount')\n",
        "plt.xlabel('Number of Appointments')\n",
        "plt.ylabel('Total Billing Amount')\n",
        "plt.grid(True)\n",
        "plt.tight_layout()\n",
        "\n",
        "# Show plot\n",
        "plt.show()\n"
      ],
      "metadata": {
        "colab": {
          "base_uri": "https://localhost:8080/",
          "height": 607
        },
        "id": "9iMZocXm1yXh",
        "outputId": "72f1fbea-cd4a-43b6-cde7-99db5b4492ab"
      },
      "execution_count": 54,
      "outputs": [
        {
          "output_type": "display_data",
          "data": {
            "text/plain": [
              "<Figure size 1000x600 with 1 Axes>"
            ],
            "image/png": "[encoded data removed]"
          },
          "metadata": {}
        }
      ]
    },
    {
      "cell_type": "code",
      "source": [
        "# Date vs no. of appointments\n",
        "import sqlite3\n",
        "import pandas as pd\n",
        "import matplotlib.pyplot as plt\n",
        "import seaborn as sns\n",
        "\n",
        "# Connect to SQLite database\n",
        "conn = sqlite3.connect('healthcare.db')\n",
        "\n",
        "# Query to fetch historical data (e.g., number of appointments per date)\n",
        "query_appointments_trend = '''\n",
        "    SELECT Date, COUNT(*) AS TotalAppointments\n",
        "    FROM Appointments\n",
        "    GROUP BY Date\n",
        "    ORDER BY Date\n",
        "'''\n",
        "\n",
        "# Execute query and fetch data into DataFrame\n",
        "df_appointments_trend = pd.read_sql_query(query_appointments_trend, conn)\n",
        "\n",
        "# Close connection\n",
        "conn.close()\n",
        "\n",
        "# Convert 'Date' column to datetime type if it's not already\n",
        "df_appointments_trend['Date'] = pd.to_datetime(df_appointments_trend['Date'])\n",
        "\n",
        "# Plotting using seaborn scatterplot\n",
        "plt.figure(figsize=(12, 6))\n",
        "sns.scatterplot(x='Date', y='TotalAppointments', data=df_appointments_trend, marker='o')\n",
        "plt.title('Historical Trends: Number of Appointments Over Time')\n",
        "plt.xlabel('Date')\n",
        "plt.ylabel('Total Appointments')\n",
        "plt.xticks(rotation=45)\n",
        "plt.tight_layout()\n",
        "plt.show()\n"
      ],
      "metadata": {
        "colab": {
          "base_uri": "https://localhost:8080/",
          "height": 569
        },
        "id": "wAhQ9Mk02QIR",
        "outputId": "c073c0da-f772-4480-cb18-97e1897c4fe7"
      },
      "execution_count": 55,
      "outputs": [
        {
          "output_type": "display_data",
          "data": {
            "text/plain": [
              "<Figure size 1200x600 with 1 Axes>"
            ],
            "image/png": "[encoded data removed]"
          },
          "metadata": {}
        }
      ]
    },
    {
      "cell_type": "markdown",
      "source": [
        "# Predicting patient health outcomes"
      ],
      "metadata": {
        "id": "p7JG0ysE5y1r"
      }
    },
    {
      "cell_type": "code",
      "source": [
        "import sqlite3\n",
        "import pandas as pd\n",
        "from sklearn.feature_extraction.text import TfidfVectorizer\n",
        "from sklearn.metrics.pairwise import cosine_similarity\n",
        "\n",
        "# Connect to SQLite database\n",
        "conn = sqlite3.connect('healthcare.db')\n",
        "\n",
        "# Query the MedicalProcedure table\n",
        "query = '''\n",
        "    SELECT ProcedureID, ProcedureName\n",
        "    FROM MedicalProcedure\n",
        "'''\n",
        "procedures_df = pd.read_sql_query(query, conn)\n",
        "\n",
        "# Initialize TF-IDF Vectorizer\n",
        "tfidf_vectorizer = TfidfVectorizer(stop_words='english')\n",
        "\n",
        "# Fit and transform the TF-IDF vectorizer on procedure names\n",
        "tfidf_matrix = tfidf_vectorizer.fit_transform(procedures_df['ProcedureName'])\n",
        "\n",
        "# Calculate cosine similarity matrix\n",
        "cosine_sim = cosine_similarity(tfidf_matrix, tfidf_matrix)\n",
        "\n",
        "# Function to recommend procedures based on similarity\n",
        "def recommend_procedures(procedure_name, cosine_sim=cosine_sim, procedures_df=procedures_df, top_n=5):\n",
        "    # Find index of procedure_name if it exists\n",
        "    if procedure_name in procedures_df['ProcedureName'].values:\n",
        "        idx = procedures_df.index[procedures_df['ProcedureName'] == procedure_name].tolist()[0]\n",
        "\n",
        "        # Get pairwise similarity scores with all procedures\n",
        "        sim_scores = list(enumerate(cosine_sim[idx]))\n",
        "\n",
        "        # Sort procedures based on similarity scores\n",
        "        sim_scores = sorted(sim_scores, key=lambda x: x[1], reverse=True)\n",
        "\n",
        "        # Get top-n similar procedures\n",
        "        top_sim_scores = sim_scores[1:top_n+1]  # Exclude self and take top-n\n",
        "\n",
        "        # Get procedure indices\n",
        "        procedure_indices = [i[0] for i in top_sim_scores]\n",
        "\n",
        "        # Return top-n similar procedures\n",
        "        return procedures_df.iloc[procedure_indices]\n",
        "    else:\n",
        "        print(f\"No procedure found with name '{procedure_name}'.\")\n",
        "        return None\n",
        "\n",
        "# Example usage: Recommend procedures similar to 'Knee Surgery'\n",
        "recommendations = recommend_procedures('Kidney transplant')\n",
        "if recommendations is not None:\n",
        "    print(recommendations[['ProcedureID', 'ProcedureName']])\n"
      ],
      "metadata": {
        "colab": {
          "base_uri": "https://localhost:8080/"
        },
        "id": "NpDHihaY4amx",
        "outputId": "3b345297-507b-41df-b777-e0969bfbc446"
      },
      "execution_count": 56,
      "outputs": [
        {
          "output_type": "stream",
          "name": "stdout",
          "text": [
            "     ProcedureID      ProcedureName\n",
            "146          273  Kidney transplant\n",
            "181          328  Kidney transplant\n",
            "201          360  Kidney transplant\n",
            "247          432  Kidney transplant\n",
            "291          503  Kidney transplant\n"
          ]
        }
      ]
    },
    {
      "cell_type": "code",
      "source": [
        "# Accuracy\n",
        "# Assuming you have a ground truth set of similar procedures for evaluation\n",
        "ground_truth = {'Knee Surgery': ['Arthroscopic Knee Surgery', 'Knee Replacement', 'ACL Reconstruction']}\n",
        "\n",
        "def evaluate_recommendations(ground_truth, top_n=5):\n",
        "    total_queries = len(ground_truth)\n",
        "    total_correct = 0\n",
        "    total_retrieved = 0\n",
        "\n",
        "    for query, similar_procedures in ground_truth.items():\n",
        "        recommendations = recommend_procedures(query, top_n=top_n)\n",
        "        if recommendations is not None:\n",
        "            retrieved_procedures = list(recommendations['ProcedureName'])\n",
        "            total_retrieved += len(retrieved_procedures)\n",
        "            correct_predictions = set(retrieved_procedures) & set(similar_procedures)\n",
        "            total_correct += len(correct_predictions)\n",
        "\n",
        "    precision = total_correct / total_retrieved if total_retrieved > 0 else 0\n",
        "    recall = total_correct / total_queries if total_queries > 0 else 0\n",
        "\n",
        "    print(f\"Precision@{top_n}: {precision:.2f}\")\n",
        "    print(f\"Recall@{top_n}: {recall:.2f}\")\n",
        "\n",
        "# Evaluate precision and recall for top-5 recommendations\n",
        "evaluate_recommendations(ground_truth)\n"
      ],
      "metadata": {
        "colab": {
          "base_uri": "https://localhost:8080/"
        },
        "id": "8lZycgvh6XaU",
        "outputId": "54c15bd0-ee70-4804-cf50-8efabc5ec819"
      },
      "execution_count": 57,
      "outputs": [
        {
          "output_type": "stream",
          "name": "stdout",
          "text": [
            "No procedure found with name 'Knee Surgery'.\n",
            "Precision@5: 0.00\n",
            "Recall@5: 0.00\n"
          ]
        }
      ]
    },
    {
      "cell_type": "code",
      "source": [
        "pip install streamlit"
      ],
      "metadata": {
        "colab": {
          "base_uri": "https://localhost:8080/"
        },
        "id": "WhbaNzixlaZD",
        "outputId": "1bf576bf-364f-4bcd-f7dc-1270c19ff322"
      },
      "execution_count": 58,
      "outputs": [
        {
          "output_type": "stream",
          "name": "stdout",
          "text": [
            "Requirement already satisfied: streamlit in /usr/local/lib/python3.10/dist-packages (1.36.0)\n",
            "Requirement already satisfied: altair<6,>=4.0 in /usr/local/lib/python3.10/dist-packages (from streamlit) (4.2.2)\n",
            "Requirement already satisfied: blinker<2,>=1.0.0 in /usr/lib/python3/dist-packages (from streamlit) (1.4)\n",
            "Requirement already satisfied: cachetools<6,>=4.0 in /usr/local/lib/python3.10/dist-packages (from streamlit) (5.3.3)\n",
            "Requirement already satisfied: click<9,>=7.0 in /usr/local/lib/python3.10/dist-packages (from streamlit) (8.1.7)\n",
            "Requirement already satisfied: numpy<3,>=1.20 in /usr/local/lib/python3.10/dist-packages (from streamlit) (1.25.2)\n",
            "Requirement already satisfied: packaging<25,>=20 in /usr/local/lib/python3.10/dist-packages (from streamlit) (24.1)\n",
            "Requirement already satisfied: pandas<3,>=1.3.0 in /usr/local/lib/python3.10/dist-packages (from streamlit) (2.0.3)\n",
            "Requirement already satisfied: pillow<11,>=7.1.0 in /usr/local/lib/python3.10/dist-packages (from streamlit) (9.4.0)\n",
            "Requirement already satisfied: protobuf<6,>=3.20 in /usr/local/lib/python3.10/dist-packages (from streamlit) (3.20.3)\n",
            "Requirement already satisfied: pyarrow>=7.0 in /usr/local/lib/python3.10/dist-packages (from streamlit) (14.0.2)\n",
            "Requirement already satisfied: requests<3,>=2.27 in /usr/local/lib/python3.10/dist-packages (from streamlit) (2.31.0)\n",
            "Requirement already satisfied: rich<14,>=10.14.0 in /usr/local/lib/python3.10/dist-packages (from streamlit) (13.7.1)\n",
            "Requirement already satisfied: tenacity<9,>=8.1.0 in /usr/local/lib/python3.10/dist-packages (from streamlit) (8.4.2)\n",
            "Requirement already satisfied: toml<2,>=0.10.1 in /usr/local/lib/python3.10/dist-packages (from streamlit) (0.10.2)\n",
            "Requirement already satisfied: typing-extensions<5,>=4.3.0 in /usr/local/lib/python3.10/dist-packages (from streamlit) (4.12.2)\n",
            "Requirement already satisfied: gitpython!=3.1.19,<4,>=3.0.7 in /usr/local/lib/python3.10/dist-packages (from streamlit) (3.1.43)\n",
            "Requirement already satisfied: pydeck<1,>=0.8.0b4 in /usr/local/lib/python3.10/dist-packages (from streamlit) (0.9.1)\n",
            "Requirement already satisfied: tornado<7,>=6.0.3 in /usr/local/lib/python3.10/dist-packages (from streamlit) (6.3.3)\n",
            "Requirement already satisfied: watchdog<5,>=2.1.5 in /usr/local/lib/python3.10/dist-packages (from streamlit) (4.0.1)\n",
            "Requirement already satisfied: entrypoints in /usr/local/lib/python3.10/dist-packages (from altair<6,>=4.0->streamlit) (0.4)\n",
            "Requirement already satisfied: jinja2 in /usr/local/lib/python3.10/dist-packages (from altair<6,>=4.0->streamlit) (3.1.4)\n",
            "Requirement already satisfied: jsonschema>=3.0 in /usr/local/lib/python3.10/dist-packages (from altair<6,>=4.0->streamlit) (4.19.2)\n",
            "Requirement already satisfied: toolz in /usr/local/lib/python3.10/dist-packages (from altair<6,>=4.0->streamlit) (0.12.1)\n",
            "Requirement already satisfied: gitdb<5,>=4.0.1 in /usr/local/lib/python3.10/dist-packages (from gitpython!=3.1.19,<4,>=3.0.7->streamlit) (4.0.11)\n",
            "Requirement already satisfied: python-dateutil>=2.8.2 in /usr/local/lib/python3.10/dist-packages (from pandas<3,>=1.3.0->streamlit) (2.8.2)\n",
            "Requirement already satisfied: pytz>=2020.1 in /usr/local/lib/python3.10/dist-packages (from pandas<3,>=1.3.0->streamlit) (2023.4)\n",
            "Requirement already satisfied: tzdata>=2022.1 in /usr/local/lib/python3.10/dist-packages (from pandas<3,>=1.3.0->streamlit) (2024.1)\n",
            "Requirement already satisfied: charset-normalizer<4,>=2 in /usr/local/lib/python3.10/dist-packages (from requests<3,>=2.27->streamlit) (3.3.2)\n",
            "Requirement already satisfied: idna<4,>=2.5 in /usr/local/lib/python3.10/dist-packages (from requests<3,>=2.27->streamlit) (3.7)\n",
            "Requirement already satisfied: urllib3<3,>=1.21.1 in /usr/local/lib/python3.10/dist-packages (from requests<3,>=2.27->streamlit) (2.0.7)\n",
            "Requirement already satisfied: certifi>=2017.4.17 in /usr/local/lib/python3.10/dist-packages (from requests<3,>=2.27->streamlit) (2024.6.2)\n",
            "Requirement already satisfied: markdown-it-py>=2.2.0 in /usr/local/lib/python3.10/dist-packages (from rich<14,>=10.14.0->streamlit) (3.0.0)\n",
            "Requirement already satisfied: pygments<3.0.0,>=2.13.0 in /usr/local/lib/python3.10/dist-packages (from rich<14,>=10.14.0->streamlit) (2.16.1)\n",
            "Requirement already satisfied: smmap<6,>=3.0.1 in /usr/local/lib/python3.10/dist-packages (from gitdb<5,>=4.0.1->gitpython!=3.1.19,<4,>=3.0.7->streamlit) (5.0.1)\n",
            "Requirement already satisfied: MarkupSafe>=2.0 in /usr/local/lib/python3.10/dist-packages (from jinja2->altair<6,>=4.0->streamlit) (2.1.5)\n",
            "Requirement already satisfied: attrs>=22.2.0 in /usr/local/lib/python3.10/dist-packages (from jsonschema>=3.0->altair<6,>=4.0->streamlit) (23.2.0)\n",
            "Requirement already satisfied: jsonschema-specifications>=2023.03.6 in /usr/local/lib/python3.10/dist-packages (from jsonschema>=3.0->altair<6,>=4.0->streamlit) (2023.12.1)\n",
            "Requirement already satisfied: referencing>=0.28.4 in /usr/local/lib/python3.10/dist-packages (from jsonschema>=3.0->altair<6,>=4.0->streamlit) (0.35.1)\n",
            "Requirement already satisfied: rpds-py>=0.7.1 in /usr/local/lib/python3.10/dist-packages (from jsonschema>=3.0->altair<6,>=4.0->streamlit) (0.18.1)\n",
            "Requirement already satisfied: mdurl~=0.1 in /usr/local/lib/python3.10/dist-packages (from markdown-it-py>=2.2.0->rich<14,>=10.14.0->streamlit) (0.1.2)\n",
            "Requirement already satisfied: six>=1.5 in /usr/local/lib/python3.10/dist-packages (from python-dateutil>=2.8.2->pandas<3,>=1.3.0->streamlit) (1.16.0)\n"
          ]
        }
      ]
    },
    {
      "cell_type": "code",
      "source": [
        "# Save the model as a pickle file\n",
        "import pickle\n",
        "with open('healthcare.pkl', 'wb') as f:\n",
        "    pickle.dump((tfidf_vectorizer, cosine_sim, procedures_df), f)\n",
        "\n",
        "print(\"Model saved as procedure_recommender.pkl\")"
      ],
      "metadata": {
        "colab": {
          "base_uri": "https://localhost:8080/"
        },
        "id": "N_5CyfiInlZ2",
        "outputId": "4547b49f-78d2-41f1-861b-fb23e09de66e"
      },
      "execution_count": 59,
      "outputs": [
        {
          "output_type": "stream",
          "name": "stdout",
          "text": [
            "Model saved as procedure_recommender.pkl\n"
          ]
        }
      ]
    },
    {
      "cell_type": "code",
      "source": [
        "# Load the pickled objects\n",
        "pickle_file = 'healthcare.pkl'\n",
        "with open(pickle_file, 'rb') as f:\n",
        "    tfidf_vectorizer, cosine_sim, procedures_df = pickle.load(f)\n",
        "\n",
        "print(\"Loaded the model components from procedure_recommender.pkl\")"
      ],
      "metadata": {
        "colab": {
          "base_uri": "https://localhost:8080/"
        },
        "id": "SNXueREon6ZH",
        "outputId": "f710589d-03d1-40e3-d59a-2f93d39e84df"
      },
      "execution_count": 60,
      "outputs": [
        {
          "output_type": "stream",
          "name": "stdout",
          "text": [
            "Loaded the model components from procedure_recommender.pkl\n"
          ]
        }
      ]
    },
    {
      "cell_type": "code",
      "source": [
        "import streamlit as st\n",
        "import pandas as pd\n",
        "\n",
        "def recommend_procedures(procedure_name, cosine_sim=cosine_sim, procedures_df=procedures_df, top_n=5):\n",
        "    if procedure_name in procedures_df['ProcedureName'].values:\n",
        "        idx = procedures_df.index[procedures_df['ProcedureName'] == procedure_name].tolist()[0]\n",
        "        sim_scores = list(enumerate(cosine_sim[idx]))\n",
        "        sim_scores = sorted(sim_scores, key=lambda x: x[1], reverse=True)\n",
        "        top_sim_scores = sim_scores[1:top_n+1]\n",
        "        procedure_indices = [i[0] for i in top_sim_scores]\n",
        "        return procedures_df.iloc[procedure_indices]\n",
        "    else:\n",
        "        st.write(f\"No procedure found with name '{procedure_name}'.\")\n",
        "        return None\n",
        "# Streamlit app\n",
        "st.title('Healthcare Management System')\n",
        "\n",
        "procedure_name = st.text_input('Enter Procedure Name', '')\n",
        "\n",
        "if st.button('Recommend'):\n",
        "    if procedure_name:\n",
        "        recommendations = recommend_procedures(procedure_name, cosine_sim, procedures_df)\n",
        "        if recommendations is not None:\n",
        "            st.write('Recommended Procedures:')\n",
        "            st.table(recommendations[['ProcedureID', 'ProcedureName']])\n",
        "        else:\n",
        "            st.write(f\"No procedure found with name '{procedure_name}'.\")\n",
        "    else:\n",
        "        st.write(\"Please enter a procedure name.\")\n",
        "\n",
        "# To run the app, save this script as app.py and use the command `streamlit run app.py` in the terminal."
      ],
      "metadata": {
        "id": "k9d62zzO2Uqt"
      },
      "execution_count": 41,
      "outputs": []
    },
    {
      "cell_type": "code",
      "source": [
        "!pip install streamlit pyngrok"
      ],
      "metadata": {
        "id": "xUVItO-QtG5Q",
        "outputId": "33210a75-9f42-48c4-f6ef-0dc41b0bc38f",
        "colab": {
          "base_uri": "https://localhost:8080/"
        }
      },
      "execution_count": 61,
      "outputs": [
        {
          "output_type": "stream",
          "name": "stdout",
          "text": [
            "Requirement already satisfied: streamlit in /usr/local/lib/python3.10/dist-packages (1.36.0)\n",
            "Requirement already satisfied: pyngrok in /usr/local/lib/python3.10/dist-packages (7.1.6)\n",
            "Requirement already satisfied: altair<6,>=4.0 in /usr/local/lib/python3.10/dist-packages (from streamlit) (4.2.2)\n",
            "Requirement already satisfied: blinker<2,>=1.0.0 in /usr/lib/python3/dist-packages (from streamlit) (1.4)\n",
            "Requirement already satisfied: cachetools<6,>=4.0 in /usr/local/lib/python3.10/dist-packages (from streamlit) (5.3.3)\n",
            "Requirement already satisfied: click<9,>=7.0 in /usr/local/lib/python3.10/dist-packages (from streamlit) (8.1.7)\n",
            "Requirement already satisfied: numpy<3,>=1.20 in /usr/local/lib/python3.10/dist-packages (from streamlit) (1.25.2)\n",
            "Requirement already satisfied: packaging<25,>=20 in /usr/local/lib/python3.10/dist-packages (from streamlit) (24.1)\n",
            "Requirement already satisfied: pandas<3,>=1.3.0 in /usr/local/lib/python3.10/dist-packages (from streamlit) (2.0.3)\n",
            "Requirement already satisfied: pillow<11,>=7.1.0 in /usr/local/lib/python3.10/dist-packages (from streamlit) (9.4.0)\n",
            "Requirement already satisfied: protobuf<6,>=3.20 in /usr/local/lib/python3.10/dist-packages (from streamlit) (3.20.3)\n",
            "Requirement already satisfied: pyarrow>=7.0 in /usr/local/lib/python3.10/dist-packages (from streamlit) (14.0.2)\n",
            "Requirement already satisfied: requests<3,>=2.27 in /usr/local/lib/python3.10/dist-packages (from streamlit) (2.31.0)\n",
            "Requirement already satisfied: rich<14,>=10.14.0 in /usr/local/lib/python3.10/dist-packages (from streamlit) (13.7.1)\n",
            "Requirement already satisfied: tenacity<9,>=8.1.0 in /usr/local/lib/python3.10/dist-packages (from streamlit) (8.4.2)\n",
            "Requirement already satisfied: toml<2,>=0.10.1 in /usr/local/lib/python3.10/dist-packages (from streamlit) (0.10.2)\n",
            "Requirement already satisfied: typing-extensions<5,>=4.3.0 in /usr/local/lib/python3.10/dist-packages (from streamlit) (4.12.2)\n",
            "Requirement already satisfied: gitpython!=3.1.19,<4,>=3.0.7 in /usr/local/lib/python3.10/dist-packages (from streamlit) (3.1.43)\n",
            "Requirement already satisfied: pydeck<1,>=0.8.0b4 in /usr/local/lib/python3.10/dist-packages (from streamlit) (0.9.1)\n",
            "Requirement already satisfied: tornado<7,>=6.0.3 in /usr/local/lib/python3.10/dist-packages (from streamlit) (6.3.3)\n",
            "Requirement already satisfied: watchdog<5,>=2.1.5 in /usr/local/lib/python3.10/dist-packages (from streamlit) (4.0.1)\n",
            "Requirement already satisfied: PyYAML>=5.1 in /usr/local/lib/python3.10/dist-packages (from pyngrok) (6.0.1)\n",
            "Requirement already satisfied: entrypoints in /usr/local/lib/python3.10/dist-packages (from altair<6,>=4.0->streamlit) (0.4)\n",
            "Requirement already satisfied: jinja2 in /usr/local/lib/python3.10/dist-packages (from altair<6,>=4.0->streamlit) (3.1.4)\n",
            "Requirement already satisfied: jsonschema>=3.0 in /usr/local/lib/python3.10/dist-packages (from altair<6,>=4.0->streamlit) (4.19.2)\n",
            "Requirement already satisfied: toolz in /usr/local/lib/python3.10/dist-packages (from altair<6,>=4.0->streamlit) (0.12.1)\n",
            "Requirement already satisfied: gitdb<5,>=4.0.1 in /usr/local/lib/python3.10/dist-packages (from gitpython!=3.1.19,<4,>=3.0.7->streamlit) (4.0.11)\n",
            "Requirement already satisfied: python-dateutil>=2.8.2 in /usr/local/lib/python3.10/dist-packages (from pandas<3,>=1.3.0->streamlit) (2.8.2)\n",
            "Requirement already satisfied: pytz>=2020.1 in /usr/local/lib/python3.10/dist-packages (from pandas<3,>=1.3.0->streamlit) (2023.4)\n",
            "Requirement already satisfied: tzdata>=2022.1 in /usr/local/lib/python3.10/dist-packages (from pandas<3,>=1.3.0->streamlit) (2024.1)\n",
            "Requirement already satisfied: charset-normalizer<4,>=2 in /usr/local/lib/python3.10/dist-packages (from requests<3,>=2.27->streamlit) (3.3.2)\n",
            "Requirement already satisfied: idna<4,>=2.5 in /usr/local/lib/python3.10/dist-packages (from requests<3,>=2.27->streamlit) (3.7)\n",
            "Requirement already satisfied: urllib3<3,>=1.21.1 in /usr/local/lib/python3.10/dist-packages (from requests<3,>=2.27->streamlit) (2.0.7)\n",
            "Requirement already satisfied: certifi>=2017.4.17 in /usr/local/lib/python3.10/dist-packages (from requests<3,>=2.27->streamlit) (2024.6.2)\n",
            "Requirement already satisfied: markdown-it-py>=2.2.0 in /usr/local/lib/python3.10/dist-packages (from rich<14,>=10.14.0->streamlit) (3.0.0)\n",
            "Requirement already satisfied: pygments<3.0.0,>=2.13.0 in /usr/local/lib/python3.10/dist-packages (from rich<14,>=10.14.0->streamlit) (2.16.1)\n",
            "Requirement already satisfied: smmap<6,>=3.0.1 in /usr/local/lib/python3.10/dist-packages (from gitdb<5,>=4.0.1->gitpython!=3.1.19,<4,>=3.0.7->streamlit) (5.0.1)\n",
            "Requirement already satisfied: MarkupSafe>=2.0 in /usr/local/lib/python3.10/dist-packages (from jinja2->altair<6,>=4.0->streamlit) (2.1.5)\n",
            "Requirement already satisfied: attrs>=22.2.0 in /usr/local/lib/python3.10/dist-packages (from jsonschema>=3.0->altair<6,>=4.0->streamlit) (23.2.0)\n",
            "Requirement already satisfied: jsonschema-specifications>=2023.03.6 in /usr/local/lib/python3.10/dist-packages (from jsonschema>=3.0->altair<6,>=4.0->streamlit) (2023.12.1)\n",
            "Requirement already satisfied: referencing>=0.28.4 in /usr/local/lib/python3.10/dist-packages (from jsonschema>=3.0->altair<6,>=4.0->streamlit) (0.35.1)\n",
            "Requirement already satisfied: rpds-py>=0.7.1 in /usr/local/lib/python3.10/dist-packages (from jsonschema>=3.0->altair<6,>=4.0->streamlit) (0.18.1)\n",
            "Requirement already satisfied: mdurl~=0.1 in /usr/local/lib/python3.10/dist-packages (from markdown-it-py>=2.2.0->rich<14,>=10.14.0->streamlit) (0.1.2)\n",
            "Requirement already satisfied: six>=1.5 in /usr/local/lib/python3.10/dist-packages (from python-dateutil>=2.8.2->pandas<3,>=1.3.0->streamlit) (1.16.0)\n"
          ]
        }
      ]
    },
    {
      "cell_type": "code",
      "source": [
        "# %%writefile app.py\n",
        "!pip install scikit-learn as sklearn\n",
        "# import streamlit as st\n",
        "# import pandas as pd\n",
        "# import sqlite3\n",
        "# import pickle\n",
        "\n",
        "# # Load the pickled objects\n",
        "# pickle_file = 'healthcare.pkl'\n",
        "# with open(pickle_file, 'rb') as f:\n",
        "#     tfidf_vectorizer, cosine_sim, procedures_df = pickle.load(f)\n",
        "\n",
        "# def recommend_procedures(procedure_name, cosine_sim=cosine_sim, procedures_df=procedures_df, top_n=5):\n",
        "#     if procedure_name in procedures_df['ProcedureName'].values:\n",
        "#         idx = procedures_df.index[procedures_df['ProcedureName'] == procedure_name].tolist()[0]\n",
        "#         sim_scores = list(enumerate(cosine_sim[idx]))\n",
        "#         sim_scores = sorted(sim_scores, key=lambda x: x[1], reverse=True)\n",
        "#         top_sim_scores = sim_scores[1:top_n+1]\n",
        "#         procedure_indices = [i[0] for i in top_sim_scores]\n",
        "#         return procedures_df.iloc[procedure_indices]\n",
        "#     else:\n",
        "#         st.write(f\"No procedure found with name '{procedure_name}'.\")\n",
        "#         return None\n",
        "\n",
        "# st.title(\"Healthcare Management System\")\n",
        "\n",
        "# procedure_name = st.text_input(\"Enter a procedure name:\", \"Kidney transplant\")\n",
        "# if procedure_name:\n",
        "#     recommendations = recommend_procedures(procedure_name)\n",
        "#     if recommendations is not None:\n",
        "#         st.write(\"Recommended procedures:\")\n",
        "#         st.write(recommendations[['ProcedureID', 'ProcedureName']])\n"
      ],
      "metadata": {
        "id": "ET8Tkm6zuoco",
        "outputId": "7c13a481-31cf-4f8c-a435-5e5a25cd26ac",
        "colab": {
          "base_uri": "https://localhost:8080/"
        }
      },
      "execution_count": 62,
      "outputs": [
        {
          "output_type": "stream",
          "name": "stdout",
          "text": [
            "Requirement already satisfied: scikit-learn in /usr/local/lib/python3.10/dist-packages (1.2.2)\n",
            "\u001b[31mERROR: Could not find a version that satisfies the requirement as (from versions: none)\u001b[0m\u001b[31m\n",
            "\u001b[0m\u001b[31mERROR: No matching distribution found for as\u001b[0m\u001b[31m\n",
            "\u001b[0m"
          ]
        }
      ]
    },
    {
      "cell_type": "code",
      "source": [
        "# # Start the Streamlit app in the background\n",
        "# !streamlit run healthcare.py &"
      ],
      "metadata": {
        "id": "45uDdVyBwnYt",
        "outputId": "d2807012-6695-4baf-d771-81b6c79683ff",
        "colab": {
          "base_uri": "https://localhost:8080/"
        }
      },
      "execution_count": 39,
      "outputs": [
        {
          "output_type": "stream",
          "name": "stdout",
          "text": [
            "\n",
            "Collecting usage statistics. To deactivate, set browser.gatherUsageStats to false.\n",
            "\u001b[0m\n",
            "\u001b[0m\n",
            "\u001b[34m\u001b[1m  You can now view your Streamlit app in your browser.\u001b[0m\n",
            "\u001b[0m\n",
            "\u001b[34m  Local URL: \u001b[0m\u001b[1mhttp://localhost:8501\u001b[0m\n",
            "\u001b[34m  Network URL: \u001b[0m\u001b[1mhttp://172.28.0.12:8501\u001b[0m\n",
            "\u001b[34m  External URL: \u001b[0m\u001b[1mhttp://35.231.246.255:8501\u001b[0m\n",
            "\u001b[0m\n",
            "\u001b[34m  Stopping...\u001b[0m\n"
          ]
        }
      ]
    },
    {
      "cell_type": "code",
      "source": [],
      "metadata": {
        "id": "sJ8MbxlK1BpC"
      },
      "execution_count": 61,
      "outputs": []
    }
  ]
}